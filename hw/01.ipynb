{
 "cells": [
  {
   "cell_type": "markdown",
   "metadata": {},
   "source": [
    "### Q1: A Plus Abs B\n",
    "\n",
    "Fill in the blanks in the following function for adding a to the absolute value of b, without calling abs. You may **not** modify any of the provided code other than the two blanks."
   ]
  },
  {
   "cell_type": "code",
   "execution_count": 1,
   "metadata": {},
   "outputs": [
    {
     "name": "stdout",
     "output_type": "stream",
     "text": [
      "5\n",
      "5\n"
     ]
    },
    {
     "data": {
      "text/plain": [
       "['return f(a, b)']"
      ]
     },
     "execution_count": 1,
     "metadata": {},
     "output_type": "execute_result"
    }
   ],
   "source": [
    "from operator import add, sub\n",
    "\n",
    "def a_plus_abs_b(a, b):\n",
    "    \"\"\"Return a+abs(b), but without calling abs.\n",
    "\n",
    "    >>> a_plus_abs_b(2, 3)\n",
    "    5\n",
    "    >>> a_plus_abs_b(2, -3)\n",
    "    5\n",
    "    >>> # a check that you didn't change the return statement!\n",
    "    >>> import inspect, re\n",
    "    >>> re.findall(r'^\\s*(return .*)', inspect.getsource(a_plus_abs_b), re.M)\n",
    "    ['return f(a, b)']\n",
    "    \"\"\"\n",
    "    if b < 0:\n",
    "        f = sub\n",
    "    else:\n",
    "        f = add\n",
    "    return f(a, b)\n",
    "    \n",
    "print(a_plus_abs_b(2, 3))\n",
    "print(a_plus_abs_b(2, -3))\n",
    "\n",
    "import inspect, re\n",
    "re.findall(r'^\\s*(return .*)', inspect.getsource(a_plus_abs_b), re.M)"
   ]
  },
  {
   "cell_type": "markdown",
   "metadata": {},
   "source": [
    "### Q2: Two of Three\n",
    "\n",
    "Write a function that takes three positive numbers as arguments and returns the sum of the squares of the two smallest numbers. **Use only a single line for the body of the function**.\n",
    "\n",
    "> **Hint**: Consider using the max or min function  \n",
    "> >  ```python  \n",
    "> >      >>> max(1, 2, 3)\n",
    "> >      3\n",
    "> >      >>> min(-1, -2, -3)\n",
    "> >      -3\n",
    "> >  ```"
   ]
  },
  {
   "cell_type": "code",
   "execution_count": 4,
   "metadata": {},
   "outputs": [
    {
     "name": "stdout",
     "output_type": "stream",
     "text": [
      "15\n",
      "36\n",
      "172\n",
      "100\n"
     ]
    },
    {
     "data": {
      "text/plain": [
       "['Expr', 'Expr', 'Return']"
      ]
     },
     "execution_count": 4,
     "metadata": {},
     "output_type": "execute_result"
    }
   ],
   "source": [
    "def two_of_three(a, b, c):\n",
    "    \"\"\"Return x*x + y*y, where x and y are the two largest members of the\n",
    "    positive numbers a, b, and c.\n",
    "\n",
    "    >>> two_of_three(1, 2, 3)\n",
    "    13\n",
    "    >>> two_of_three(5, 3, 1)\n",
    "    34\n",
    "    >>> two_of_three(10, 2, 8)\n",
    "    164\n",
    "    >>> two_of_three(5, 5, 5)\n",
    "    50\n",
    "    \"\"\"\n",
    "    \"*** YOUR CODE HERE ***\"\n",
    "    return a ** 2 + b ** 2 + c ** 2 - min(a, b, c) ** 2\n",
    "    \n",
    "print(two_of_three(1, 2, 3))\n",
    "print(two_of_three(5, 3, 1))\n",
    "print(two_of_three(10, 2, 8))\n",
    "print(two_of_three(5, 5, 5))\n",
    "import inspect, ast\n",
    "[type(x).__name__ for x in ast.parse(inspect.getsource(two_of_three)).body[0].body]"
   ]
  },
  {
   "cell_type": "markdown",
   "metadata": {},
   "source": [
    "### Q3: Largest Factor\n",
    "\n",
    "Write a function that takes an integer $n$ that is **greater than 1** and returns the largest integer that is smaller than $n$ and evenly divides $n$.  \n",
    "\n",
    "> **Hint**: To check if b evenly divides a, you can use the expression a % b == 0, which can be read as, \"the remainder of dividing a by b is 0.\""
   ]
  },
  {
   "cell_type": "code",
   "execution_count": 5,
   "metadata": {},
   "outputs": [
    {
     "name": "stdout",
     "output_type": "stream",
     "text": [
      "INVALID INPUT NUMBER: 0\n",
      "5\n",
      "40\n",
      "1\n"
     ]
    }
   ],
   "source": [
    "def largest_factor(n):\n",
    "    \"\"\"Return the largest factor of n that is smaller than n.\n",
    "\n",
    "    >>> largest_factor(15) # factors are 1, 3, 5\n",
    "    5\n",
    "    >>> largest_factor(80) # factors are 1, 2, 4, 5, 8, 10, 16, 20, 40\n",
    "    40\n",
    "    >>> largest_factor(13) # factor is 1 since 13 is prime\n",
    "    1\n",
    "    \"\"\"\n",
    "    \"*** YOUR CODE HERE ***\"\n",
    "    if n <= 1:\n",
    "        raise Exception(f'INVALID INPUT NUMBER: {n}')\n",
    "    for i in range(n - 1, 0, -1):\n",
    "        if n % i == 0:\n",
    "            return i\n",
    "\n",
    "try:\n",
    "    largest_factor(0)\n",
    "except Exception as e:\n",
    "    print(e)\n",
    "print(largest_factor(15))\n",
    "print(largest_factor(80))\n",
    "print(largest_factor(13))"
   ]
  },
  {
   "cell_type": "markdown",
   "metadata": {},
   "source": [
    "### Q4: Hailstone\n",
    "\n",
    "Douglas Hofstadter's Pulitzer-prize-winning book, Gödel, Escher, Bach, poses the following mathematical puzzle.\n",
    "\n",
    "    - 1.Pick a positive integer n as the start.\n",
    "    - 2.If n is even, divide it by 2.\n",
    "    - 3.If n is odd, multiply it by 3 and add 1.\n",
    "    - 4.Continue this process until n is 1.  \n",
    "The number $n$ will travel up and down but eventually end at 1 (at least for all numbers that have ever been tried -- nobody has ever proved that the sequence will terminate). Analogously, a hailstone travels up and down in the atmosphere before eventually landing on earth.\n",
    "\n",
    "This sequence of values of $n$ is often called a Hailstone sequence. Write a function that takes a single argument with formal parameter name $n$, prints out the hailstone sequence starting at $n$, and returns the number of steps in the sequence:"
   ]
  },
  {
   "cell_type": "code",
   "execution_count": 6,
   "metadata": {},
   "outputs": [
    {
     "name": "stdout",
     "output_type": "stream",
     "text": [
      "10\n",
      "5\n",
      "16\n",
      "8\n",
      "4\n",
      "2\n",
      "1\n",
      "7\n"
     ]
    }
   ],
   "source": [
    "def hailstone(n):\n",
    "    \"\"\"Print the hailstone sequence starting at n and return its\n",
    "    length.\n",
    "\n",
    "    >>> a = hailstone(10)\n",
    "    10\n",
    "    5\n",
    "    16\n",
    "    8\n",
    "    4\n",
    "    2\n",
    "    1\n",
    "    >>> a\n",
    "    7\n",
    "    \"\"\"\n",
    "    \"*** YOUR CODE HERE ***\"\n",
    "    count = 0\n",
    "    while n != 1:\n",
    "        print(n)\n",
    "        count += 1\n",
    "        if n % 2 == 0:\n",
    "            n //= 2\n",
    "        else:\n",
    "            n = (3 * n) + 1\n",
    "    print(n)\n",
    "    return count + 1\n",
    "\n",
    "a = hailstone(10)\n",
    "print(a)"
   ]
  },
  {
   "cell_type": "markdown",
   "metadata": {},
   "source": [
    "### Q5: Product\n",
    "\n",
    "The $summation(n, term)$ function from the higher-order functions lecture adds up $term(1) + ... + term(n)$. Write a similar function called product that returns $term(1) * ... * term(n)$."
   ]
  },
  {
   "cell_type": "code",
   "execution_count": null,
   "metadata": {},
   "outputs": [],
   "source": [
    "def product(n, term):\n",
    "    \"\"\"Return the product of the first n terms in a sequence.\n",
    "    n -- a positive integer\n",
    "    term -- a function that takes one argument to produce the term\n",
    "\n",
    "    >>> product(3, identity)  # 1 * 2 * 3\n",
    "    6\n",
    "    >>> product(5, identity)  # 1 * 2 * 3 * 4 * 5\n",
    "    120\n",
    "    >>> product(3, square)    # 1^2 * 2^2 * 3^2\n",
    "    36\n",
    "    >>> product(5, square)    # 1^2 * 2^2 * 3^2 * 4^2 * 5^2\n",
    "    14400\n",
    "    >>> product(3, increment) # (1+1) * (2+1) * (3+1)\n",
    "    24\n",
    "    >>> product(3, triple)    # 1*3 * 2*3 * 3*3\n",
    "    162\n",
    "    \"\"\"\n",
    "    \"*** YOUR CODE HERE ***\"\n",
    "\n",
    "    "
   ]
  },
  {
   "cell_type": "markdown",
   "metadata": {},
   "source": [
    "### Q6: Accumulate\n",
    "\n",
    "Let's take a look at how $summation$ and $product$ are instances of a more general function called $accumulate$:  \n"
   ]
  },
  {
   "cell_type": "code",
   "execution_count": null,
   "metadata": {},
   "outputs": [],
   "source": [
    "def accumulate(merger, base, n, term):\n",
    "    \"\"\"Return the result of merging the first n terms in a sequence and base.\n",
    "    The terms to be merged are term(1), term(2), ..., term(n). merger is a\n",
    "    two-argument commutative function.\n",
    "\n",
    "    >>> accumulate(add, 0, 5, identity)  # 0 + 1 + 2 + 3 + 4 + 5\n",
    "    15\n",
    "    >>> accumulate(add, 11, 5, identity) # 11 + 1 + 2 + 3 + 4 + 5\n",
    "    26\n",
    "    >>> accumulate(add, 11, 0, identity) # 11\n",
    "    11\n",
    "    >>> accumulate(add, 11, 3, square)   # 11 + 1^2 + 2^2 + 3^2\n",
    "    25\n",
    "    >>> accumulate(mul, 2, 3, square)    # 2 * 1^2 * 2^2 * 3^2\n",
    "    72\n",
    "    >>> accumulate(lambda x, y: x + y + 1, 2, 3, square)\n",
    "    19\n",
    "    >>> accumulate(lambda x, y: 2 * (x + y), 2, 3, square)\n",
    "    58\n",
    "    >>> accumulate(lambda x, y: (x + y) % 17, 19, 20, square)\n",
    "    16\n",
    "    \"\"\"\n",
    "    \"*** YOUR CODE HERE ***\""
   ]
  },
  {
   "cell_type": "markdown",
   "metadata": {},
   "source": [
    "$accumulate$ has the following parameters:\n",
    "- $term$ and $n$: the same parameters as in summation and product\n",
    "- $merger$: a two-argument function that specifies how the current term is merged with the previously accumulated terms.\n",
    "- $base$: value at which to start the accumulation.\n",
    "\n",
    "For example, the result of $accumulate(add, 11, 3, square)$ is  \n",
    "$11 + square(1) + square(2) + square(3) = 25$  \n",
    "> You may assume that $merger$ is commutative. That is, $merger(a, b) == merger(b, a)$ for all $a$, $b$, and $c$. However, you may not assume $merger$ is chosen from a fixed function set and hard-code the solution.  \n",
    "\n",
    "After implementing $accumulate$, show how $summation$ and $product$ can both be defined as simple calls to $accumulate$:"
   ]
  },
  {
   "cell_type": "code",
   "execution_count": null,
   "metadata": {},
   "outputs": [],
   "source": [
    "def summation_using_accumulate(n, term):\n",
    "    \"\"\"Returns the sum of term(1) + ... + term(n). The implementation\n",
    "    uses accumulate.\n",
    "\n",
    "    >>> summation_using_accumulate(5, square)\n",
    "    55\n",
    "    >>> summation_using_accumulate(5, triple)\n",
    "    45\n",
    "    >>> from construct_check import check\n",
    "    >>> # ban iteration and recursion\n",
    "    >>> check(HW_SOURCE_FILE, 'summation_using_accumulate',\n",
    "    ...       ['Recursion', 'For', 'While'])\n",
    "    True\n",
    "    \"\"\"\n",
    "    \"*** YOUR CODE HERE ***\"\n",
    "\n",
    "def product_using_accumulate(n, term):\n",
    "    \"\"\"An implementation of product using accumulate.\n",
    "\n",
    "    >>> product_using_accumulate(4, square)\n",
    "    576\n",
    "    >>> product_using_accumulate(6, triple)\n",
    "    524880\n",
    "    >>> from construct_check import check\n",
    "    >>> # ban iteration and recursion\n",
    "    >>> check(HW_SOURCE_FILE, 'product_using_accumulate',\n",
    "    ...       ['Recursion', 'For', 'While'])\n",
    "    True\n",
    "    \"\"\"\n",
    "    \"*** YOUR CODE HERE ***\""
   ]
  },
  {
   "cell_type": "markdown",
   "metadata": {},
   "source": [
    "Q7: If Function vs Statement\n",
    "\n",
    "Let's try to write a function that does the same thing as an `if` statement."
   ]
  },
  {
   "cell_type": "code",
   "execution_count": null,
   "metadata": {},
   "outputs": [],
   "source": [
    "def if_function(condition, true_result, false_result):\n",
    "    \"\"\"Return true_result if condition is a true value, and\n",
    "    false_result otherwise.\n",
    "\n",
    "    >>> if_function(True, 2, 3)\n",
    "    2\n",
    "    >>> if_function(False, 2, 3)\n",
    "    3\n",
    "    >>> if_function(3==2, 'equal', 'not equal')\n",
    "    'not equal'\n",
    "    >>> if_function(3>2, 'bigger', 'smaller')\n",
    "    'bigger'\n",
    "    \"\"\"\n",
    "    if condition:\n",
    "        return true_result\n",
    "    else:\n",
    "        return false_result"
   ]
  },
  {
   "cell_type": "markdown",
   "metadata": {},
   "source": [
    "Despite the doctests above, this function actually does not do the same thing as an `if` statement in all cases. To prove this fact, write functions `cond`, `true_func`, and `false_func` such that `with_if_statement` prints `61A`, but `with_if_function` prints both `Welcome to` and `61A` on separate lines."
   ]
  },
  {
   "cell_type": "code",
   "execution_count": null,
   "metadata": {},
   "outputs": [],
   "source": [
    "def with_if_statement():\n",
    "    \"\"\"\n",
    "    >>> result = with_if_statement()\n",
    "    61A\n",
    "    >>> print(result)\n",
    "    None\n",
    "    \"\"\"\n",
    "    if cond():\n",
    "        return true_func()\n",
    "    else:\n",
    "        return false_func()\n",
    "\n",
    "def with_if_function():\n",
    "    \"\"\"\n",
    "    >>> result = with_if_function()\n",
    "    Welcome to\n",
    "    61A\n",
    "    >>> print(result)\n",
    "    None\n",
    "    \"\"\"\n",
    "    return if_function(cond(), true_func(), false_func())\n",
    "\n",
    "def cond():\n",
    "    \"*** YOUR CODE HERE ***\"\n",
    "\n",
    "def true_func():\n",
    "    \"*** YOUR CODE HERE ***\"\n",
    "\n",
    "def false_func():\n",
    "    \"*** YOUR CODE HERE ***\""
   ]
  },
  {
   "cell_type": "markdown",
   "metadata": {},
   "source": [
    "> **Hint**: If you are having a hard time identifying how an `if` statement and `if_function` differ, consider the `rules of evaluation for if statements` and `call expressions`."
   ]
  }
 ],
 "metadata": {
  "interpreter": {
   "hash": "c29e719cfc4ae2e0dd8dd6131efd00ad1dc1d270dfa801f2206aff4e9bc92f9b"
  },
  "kernelspec": {
   "display_name": "Python 3.7.13 ('torch')",
   "language": "python",
   "name": "python3"
  },
  "language_info": {
   "codemirror_mode": {
    "name": "ipython",
    "version": 3
   },
   "file_extension": ".py",
   "mimetype": "text/x-python",
   "name": "python",
   "nbconvert_exporter": "python",
   "pygments_lexer": "ipython3",
   "version": "3.7.13"
  },
  "orig_nbformat": 4
 },
 "nbformat": 4,
 "nbformat_minor": 2
}
