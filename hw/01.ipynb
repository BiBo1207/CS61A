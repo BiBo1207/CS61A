{
 "cells": [
  {
   "cell_type": "code",
   "execution_count": 3,
   "metadata": {},
   "outputs": [
    {
     "name": "stdout",
     "output_type": "stream",
     "text": [
      "5\n",
      "5\n"
     ]
    }
   ],
   "source": [
    "def a_plus_abs_b(a, b):\n",
    "    \"\"\"Return a+abs(b), but without calling abs.\n",
    "\n",
    "    >>> a_plus_abs_b(2, 3)\n",
    "    5\n",
    "    >>> a_plus_abs_b(2, -3)\n",
    "    5\n",
    "    \"\"\"\n",
    "    \"*** YOUR CODE HERE ***\"\n",
    "    f = lambda a, b: (a + b) if (b > 0) else (a - b)\n",
    "    return f(a, b)\n",
    "\n",
    "print(a_plus_abs_b(2, 3))\n",
    "print(a_plus_abs_b(2, -3))"
   ]
  },
  {
   "cell_type": "code",
   "execution_count": 6,
   "metadata": {},
   "outputs": [
    {
     "name": "stdout",
     "output_type": "stream",
     "text": [
      "13\n",
      "34\n",
      "164\n",
      "50\n"
     ]
    }
   ],
   "source": [
    "def two_of_three(a, b, c):\n",
    "    \"\"\"Return x*x + y*y, where x and y are the two largest members of the\n",
    "    positive numbers a, b, and c.\n",
    "\n",
    "    >>> two_of_three(1, 2, 3)\n",
    "    13\n",
    "    >>> two_of_three(5, 3, 1)\n",
    "    34\n",
    "    >>> two_of_three(10, 2, 8)\n",
    "    164\n",
    "    >>> two_of_three(5, 5, 5)\n",
    "    50\n",
    "    \"\"\"\n",
    "    \"*** YOUR CODE HERE ***\"\n",
    "    return a ** 2 + b ** 2 + c ** 2 - min(a, b, c) ** 2\n",
    "    \n",
    "print(two_of_three(1, 2, 3))\n",
    "print(two_of_three(5, 3, 1))\n",
    "print(two_of_three(10, 2, 8))\n",
    "print(two_of_three(5, 5, 5))"
   ]
  },
  {
   "cell_type": "code",
   "execution_count": 21,
   "metadata": {},
   "outputs": [
    {
     "name": "stdout",
     "output_type": "stream",
     "text": [
      "INVALID INPUT NUMBER: 0\n",
      "5\n",
      "40\n",
      "1\n"
     ]
    }
   ],
   "source": [
    "def largest_factor(n):\n",
    "    \"\"\"Return the largest factor of n that is smaller than n.\n",
    "\n",
    "    >>> largest_factor(15) # factors are 1, 3, 5\n",
    "    5\n",
    "    >>> largest_factor(80) # factors are 1, 2, 4, 5, 8, 10, 16, 20, 40\n",
    "    40\n",
    "    >>> largest_factor(13) # factor is 1 since 13 is prime\n",
    "    1\n",
    "    \"\"\"\n",
    "    \"*** YOUR CODE HERE ***\"\n",
    "    if n <= 1:\n",
    "        raise Exception(f'INVALID INPUT NUMBER: {n}')\n",
    "    for i in range(n - 1, 0, -1):\n",
    "        if n % i == 0:\n",
    "            return i\n",
    "\n",
    "try:\n",
    "    largest_factor(0)\n",
    "except Exception as e:\n",
    "    print(e)\n",
    "\n",
    "print(largest_factor(15))\n",
    "print(largest_factor(80))\n",
    "print(largest_factor(13))"
   ]
  },
  {
   "cell_type": "code",
   "execution_count": 23,
   "metadata": {},
   "outputs": [],
   "source": [
    "def if_function(condition, true_result, false_result):\n",
    "    \"\"\"Return true_result if condition is a true value, and\n",
    "    false_result otherwise.\n",
    "\n",
    "    >>> if_function(True, 2, 3)\n",
    "    2\n",
    "    >>> if_function(False, 2, 3)\n",
    "    3\n",
    "    >>> if_function(3==2, 3+2, 3-2)\n",
    "    1\n",
    "    >>> if_function(3>2, 3+2, 3-2)\n",
    "    5\n",
    "    \"\"\"\n",
    "    if condition:\n",
    "        return true_result\n",
    "    else:\n",
    "        return false_result\n",
    "        \n",
    "\n",
    "def with_if_statement():\n",
    "    \"\"\"\n",
    "    >>> with_if_statement()\n",
    "    1\n",
    "    \"\"\"\n",
    "    if c():\n",
    "        return t()\n",
    "    else:\n",
    "        return f()\n",
    "\n",
    "def with_if_function():\n",
    "    return if_function(c(), t(), f())\n",
    "\n",
    "def c():\n",
    "    \"*** YOUR CODE HERE ***\"\n",
    "    return False\n",
    "\n",
    "\n",
    "def t():\n",
    "    \"*** YOUR CODE HERE ***\"\n",
    "    return 1 / 0\n",
    "\n",
    "def f():\n",
    "    \"*** YOUR CODE HERE ***\"\n",
    "    return 1"
   ]
  },
  {
   "cell_type": "code",
   "execution_count": 27,
   "metadata": {},
   "outputs": [
    {
     "name": "stdout",
     "output_type": "stream",
     "text": [
      "10\n",
      "5\n",
      "16\n",
      "8\n",
      "4\n",
      "2\n",
      "1\n",
      "7\n"
     ]
    }
   ],
   "source": [
    "def hailstone(n):\n",
    "    \"\"\"Print the hailstone sequence starting at n and return its\n",
    "    length.\n",
    "\n",
    "    >>> a = hailstone(10)\n",
    "    10\n",
    "    5\n",
    "    16\n",
    "    8\n",
    "    4\n",
    "    2\n",
    "    1\n",
    "    >>> a\n",
    "    7\n",
    "    \"\"\"\n",
    "    \"*** YOUR CODE HERE ***\"\n",
    "    count = 0\n",
    "    while n != 1:\n",
    "        print(n)\n",
    "        count += 1\n",
    "        if n % 2 == 0:\n",
    "            n //= 2\n",
    "        else:\n",
    "            n = (3 * n) + 1\n",
    "    print(n)\n",
    "    return count + 1\n",
    "\n",
    "a = hailstone(10)\n",
    "print(a)"
   ]
  }
 ],
 "metadata": {
  "interpreter": {
   "hash": "c29e719cfc4ae2e0dd8dd6131efd00ad1dc1d270dfa801f2206aff4e9bc92f9b"
  },
  "kernelspec": {
   "display_name": "Python 3.7.13 ('torch')",
   "language": "python",
   "name": "python3"
  },
  "language_info": {
   "codemirror_mode": {
    "name": "ipython",
    "version": 3
   },
   "file_extension": ".py",
   "mimetype": "text/x-python",
   "name": "python",
   "nbconvert_exporter": "python",
   "pygments_lexer": "ipython3",
   "version": "3.7.13"
  },
  "orig_nbformat": 4
 },
 "nbformat": 4,
 "nbformat_minor": 2
}
